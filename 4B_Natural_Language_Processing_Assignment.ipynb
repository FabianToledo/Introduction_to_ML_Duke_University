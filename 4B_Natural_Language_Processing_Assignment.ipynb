{
 "cells": [
  {
   "cell_type": "markdown",
   "metadata": {},
   "source": [
    "# PyTorch Assignment: Natural Language Processing (NLP)"
   ]
  },
  {
   "cell_type": "markdown",
   "metadata": {},
   "source": [
    "**[Duke Community Standard](http://integrity.duke.edu/standard.html): By typing your name below, you are certifying that you have adhered to the Duke Community Standard in completing this assignment.**\n",
    "\n",
    "Name: Fabian Alejandro Toledo"
   ]
  },
  {
   "cell_type": "markdown",
   "metadata": {},
   "source": [
    "### Text Classification\n",
    "\n",
    "In Notebook 4A, we built a sentiment analysis model for movie reviews.\n",
    "That particular sentiment analysis was a two-class classification problem, where the two classes were whether the review was positive or negative.\n",
    "Of course, natural language comes in all sorts of different forms; sometimes we want to perform other types of classification.\n",
    "\n",
    "For example, the AG News dataset contains text from 127600 online news articles, from 4 different categories: World, Sports, Business, and Science/Technology.\n",
    "AG News is typically used for topic classification: given an unseen news article, we're interested in predicting the topic.\n",
    "For this assignment, you'll be training several models on the AG News dataset.\n",
    "Unlike the quick example we trained in Notebook 4A, however, we're going to *learn* the word embeddings.\n",
    "Since you may be unfamiliar with AG News, we're going to walk through how to load the data, to get you started.\n",
    "\n",
    "\n",
    "### Loading AG News with Torchtext\n",
    "\n",
    "The AG News dataset is one of many included Torchtext.\n",
    "It can be found grouped together with many of the other text classification datasets.\n",
    "While we can download the source text online, Torchtext makes it retrievable with a quick API call&ast;. If you are running this notebook on your machine,  you can uncomment and run this block:"
   ]
  },
  {
   "cell_type": "code",
   "execution_count": 1,
   "metadata": {},
   "outputs": [],
   "source": [
    "import torch\n",
    "import torchtext\n",
    "from torchtext.data.utils import get_tokenizer\n",
    "from collections import Counter\n",
    "from torchtext.vocab import Vocab\n",
    "import string"
   ]
  },
  {
   "cell_type": "code",
   "execution_count": 2,
   "metadata": {},
   "outputs": [],
   "source": [
    "train_iter, test_iter = torchtext.datasets.AG_NEWS(root=\"./datasets\")"
   ]
  },
  {
   "cell_type": "markdown",
   "metadata": {},
   "source": [
    "<font size=\"1\">&ast;At the time this notebook was created, Torchtext contains a small bug in its csv reader.\n",
    "You may need to change one line in the source code, as suggested [here](https://discuss.pytorch.org/t/one-error-about-the-utils-pys-code/53885) to successfully load the AG News dataset.\n",
    "</font>\n",
    "\n",
    "Unfortunately, Torchtext assumes we have network connectivity. If we don't have network access, such as notebooks running in Coursera Labs, we need to reimplement some Torchtext functionality. Skip this next block if you were able to successfully run the previous code:"
   ]
  },
  {
   "cell_type": "code",
   "execution_count": 3,
   "metadata": {},
   "outputs": [],
   "source": [
    "remove_punct = str.maketrans('','',string.punctuation)\n",
    "\n",
    "tokenizer = get_tokenizer('basic_english')\n",
    "counter = Counter()\n",
    "\n",
    "label_list, text_list = [], []\n",
    "for (label, line) in train_iter:\n",
    "    # Delete punctuation signs and lowercase the sentences\n",
    "    line = line.translate(remove_punct).lower()\n",
    "    # Update the counter\n",
    "    counter.update(tokenizer(line))\n",
    "    # Append to lists of labels and texts\n",
    "    label_list.append(label-1)\n",
    "    text_list.append(tokenizer(line))\n",
    "\n",
    "vocab = Vocab(counter, min_freq=1)\n",
    "\n",
    "text_pipeline = lambda tokens_line : [vocab[token] for token in tokens_line]\n",
    "\n",
    "tensors_list = []\n",
    "for tokens_line in text_list:\n",
    "    tensors_list.append(torch.tensor(text_pipeline(tokens_line), dtype=torch.int64))\n",
    "\n",
    "# Form a list of tuples with (label, Tensor with integers from vocab)\n",
    "agnews_train = list(zip(label_list, tensors_list))"
   ]
  },
  {
   "cell_type": "code",
   "execution_count": 4,
   "metadata": {},
   "outputs": [],
   "source": [
    "agnews_test = []\n",
    "for (label, line) in test_iter:\n",
    "    # Delete punctuation signs and lowercase the sentences\n",
    "    line = line.translate(remove_punct).lower()\n",
    "     # Append to list of tuples with (label, Tensor with integers from vocab)\n",
    "    tensor_line = torch.tensor(text_pipeline(tokenizer(line)), dtype=torch.int64)\n",
    "    agnews_test.append((label-1, tensor_line))\n",
    "\n",
    "    "
   ]
  },
  {
   "cell_type": "markdown",
   "metadata": {},
   "source": [
    "Let's inspect the first data example to see how the data is formatted:"
   ]
  },
  {
   "cell_type": "code",
   "execution_count": 5,
   "metadata": {
    "scrolled": true
   },
   "outputs": [
    {
     "name": "stdout",
     "output_type": "stream",
     "text": [
      "(2, tensor([  399,   395,  1564, 14824,   101,    55,     2,   839,    24,    24,\n",
      "        52406,   399,  2034, 70568,     5, 53948,    35,  3998,   763,   298]))\n",
      "(2, tensor([  835,     9,  2449,  2505,  1440,    29,   155,  1520,  4041,   376,\n",
      "           14,  6811, 39137,   213,    61,    35,  4735,    29,   155,    12,\n",
      "        11288,  2408,   305,   176,  9826]))\n"
     ]
    }
   ],
   "source": [
    "print(agnews_train[0])\n",
    "print(agnews_test[0])\n"
   ]
  },
  {
   "cell_type": "markdown",
   "metadata": {},
   "source": [
    "We can see that Torchtext has each example as a tuple, with the first element being the label (0, 1, 2, or 3), and the second element the text data.\n",
    "Notice that the text is already \"tokenized\": the words of the news article have been represented as word IDs, with each number corresponding to a unique word.\n",
    "\n",
    "In previous notebooks, we've used `DataLoader`s to handle shuffling and batching.\n",
    "However, if we directly try to feed these dataset objects into a `DataLoader`, we will face an error when we try to draw our first batch.\n",
    "Can you figure out why?\n",
    "Here's a hint:"
   ]
  },
  {
   "cell_type": "code",
   "execution_count": 6,
   "metadata": {
    "scrolled": true
   },
   "outputs": [
    {
     "name": "stdout",
     "output_type": "stream",
     "text": [
      "Length of the first text example: 20\n",
      "Length of the second text example: 35\n",
      "Length of the second text example: 35\n",
      "Length of the second text example: 44\n"
     ]
    }
   ],
   "source": [
    "print(\"Length of the first text example: {}\".format(len(agnews_train[0][1])))\n",
    "print(\"Length of the second text example: {}\".format(len(agnews_train[1][1])))\n",
    "print(\"Length of the second text example: {}\".format(len(agnews_train[2][1])))\n",
    "print(\"Length of the second text example: {}\".format(len(agnews_train[100][1])))"
   ]
  },
  {
   "cell_type": "markdown",
   "metadata": {},
   "source": [
    "Because each example is a news snippet, they can vary in length.\n",
    "This is natural, as humans don't stick to consistent sentence length while writing.\n",
    "This creates a bit of a problem while batching, as default tensors expect the size of each dimension to be consistent.\n",
    "\n",
    "How do we fix this?\n",
    "The common solution is to perform padding and/or truncation, picking a maximum sequence length $L$.\n",
    "Inputs longer than the maximum length are truncated (i.e. $x_{t>L}$ are discarded), and shorter sequences have zeros padded to the end until they are all of length of $L$.\n",
    "We'll focus on padding here, for simplicity.\n",
    "\n",
    "We can perform this padding manually, but Pytorch has this functionality implemented.\n",
    "As an example, let's pad the first two sequences to the same length:"
   ]
  },
  {
   "cell_type": "code",
   "execution_count": 7,
   "metadata": {},
   "outputs": [
    {
     "name": "stdout",
     "output_type": "stream",
     "text": [
      "First sequence padded: tensor([  399,   395,  1564, 14824,   101,    55,     2,   839,    24,    24,\n",
      "        52406,   399,  2034, 70568,     5, 53948,    35,  3998,   763,   298,\n",
      "            0,     0,     0,     0,     0,     0,     0,     0,     0,     0,\n",
      "            0,     0,     0,     0,     0,     0,     0,     0,     0,     0,\n",
      "            0,     0,     0,     0])\n",
      "First sequence length: 44\n",
      "Second sequence padded: tensor([11635, 17848,     7,  3665,   402,     4,  5203,   600,  2080,  2080,\n",
      "            4,  5203,   600,  1340,     3,  9794, 11635,     7, 17848,   166,\n",
      "         1709,     3,    31,   148,     3,  3665,   616,     2, 12943,   509,\n",
      "           35,  2114,    59,  7744,     7,    83,    31,    13,  2120,    13,\n",
      "        24766,    17, 10362,  4182])\n",
      "Second sequence length: 44\n"
     ]
    }
   ],
   "source": [
    "from torch.nn.utils.rnn import pad_sequence\n",
    "\n",
    "padded_exs = pad_sequence([agnews_train[0][1], agnews_train[100][1]])\n",
    "print(\"First sequence padded: {}\".format(padded_exs[:,0]))\n",
    "print(\"First sequence length: {}\".format(len(padded_exs[:,0])))\n",
    "print(\"Second sequence padded: {}\".format(padded_exs[:,1]))\n",
    "print(\"Second sequence length: {}\".format(len(padded_exs[:,1])))"
   ]
  },
  {
   "cell_type": "markdown",
   "metadata": {},
   "source": [
    "Although originally of unequal lengths, both sequences are now the same length, with the shorter one padded with zeros.\n",
    "\n",
    "We'd like the `DataLoader` to perform this padding operation as part of its batching process, as this will allow us to effectively combine varying-length sequences in the same input tensor.\n",
    "Fortunately, `Dataloader`s let us override the default batching behavior with the `collate_fn` argument."
   ]
  },
  {
   "cell_type": "code",
   "execution_count": 8,
   "metadata": {},
   "outputs": [],
   "source": [
    "import numpy as np\n",
    "import torch\n",
    "\n",
    "def collator(batch):\n",
    "    labels = torch.tensor([example[0] for example in batch])\n",
    "    sentences = [example[1] for example in batch]\n",
    "    data = pad_sequence(sentences)\n",
    "    \n",
    "    return [data, labels]"
   ]
  },
  {
   "cell_type": "markdown",
   "metadata": {},
   "source": [
    "Now that we have our collator padding our sequences, we can create our `DataLoader`s.\n",
    "One last thing we need to do is choose a batch size for our `DataLoader`.\n",
    "This may be something you have to play around with.\n",
    "Too big and you may exceed your system's memory; too small and training may take longer (especially on CPU).\n",
    "Batch size also tends to influence training dynamics and model generalization.\n",
    "Fiddle around and see what works best."
   ]
  },
  {
   "cell_type": "code",
   "execution_count": 9,
   "metadata": {},
   "outputs": [],
   "source": [
    "BATCH_SIZE = 128\n",
    "\n",
    "train_loader = torch.utils.data.DataLoader(agnews_train, batch_size=BATCH_SIZE, shuffle=True, collate_fn=collator)\n",
    "test_loader = torch.utils.data.DataLoader(agnews_test, batch_size=BATCH_SIZE, shuffle=False, collate_fn=collator)\n"
   ]
  },
  {
   "cell_type": "markdown",
   "metadata": {},
   "source": [
    "### Simple Word Embedding Model"
   ]
  },
  {
   "cell_type": "markdown",
   "metadata": {},
   "source": [
    "First, let's try out the Simple Word Embedding Model (SWEM) that we built in Notebook 4A on the AG News dataset.\n",
    "Unlike before though, instead of loading pre-trained embeddings, let's learn the embeddings from scratch.\n",
    "Before we begin, it will be helpful to define a few more hyperparameters."
   ]
  },
  {
   "cell_type": "code",
   "execution_count": 32,
   "metadata": {},
   "outputs": [
    {
     "name": "stdout",
     "output_type": "stream",
     "text": [
      "102179\n"
     ]
    }
   ],
   "source": [
    "VOCAB_SIZE = len(counter)+10\n",
    "EMBED_DIM = 100\n",
    "HIDDEN_DIM = 64\n",
    "NUM_OUTPUTS = 4\n",
    "NUM_EPOCHS = 3\n",
    "\n",
    "print(VOCAB_SIZE)\n"
   ]
  },
  {
   "cell_type": "markdown",
   "metadata": {},
   "source": [
    "Once again, we're going to organize our model as a `nn.Module`.\n",
    "Instead of assuming the input is already an embedding, we're going to make learning the embedding as part of our model.\n",
    "We do this by using `nn.Embedding` to perform an embedding look-up at the beginning of our forward pass.\n",
    "Once we've done the look up, we'll have a minibatch of embedded sequences of dimension $L \\times$ `BATCH_SIZE` $\\times$ `EMBED_DIM`.\n",
    "For SWEM, remember, we take the mean&ast; across the length dimension to get an average embedding for the sequence.\n",
    "\n",
    "<font size=\"1\"> \n",
    "&ast;Note: Technically we should only take the mean across the embeddings at the positions corresponding to \"real\" words in our input, and not for the zero paddings we artificially added.\n",
    "This can be done by generating a binary mask while doing the padding to track the \"real\" words in the input.\n",
    "Ultimately though, this refinement doesn't have much impact on the results for this particular task, so we omit it for simplicity.\n",
    "</font>"
   ]
  },
  {
   "cell_type": "code",
   "execution_count": 27,
   "metadata": {
    "scrolled": true
   },
   "outputs": [],
   "source": [
    "import torch.nn as nn\n",
    "import torch.nn.functional as F\n",
    "\n",
    "class SWEM(nn.Module):\n",
    "    def __init__(self, vocab_size, embedding_size, hidden_dim, num_outputs):\n",
    "        super().__init__()\n",
    "        self.embedding = nn.Embedding(vocab_size, embedding_size)\n",
    "        \n",
    "        self.fc1 = nn.Linear(embedding_size, hidden_dim)\n",
    "        self.fc2 = nn.Linear(hidden_dim, num_outputs)\n",
    "\n",
    "    def forward(self, x):\n",
    "        embed = self.embedding(x)\n",
    "        embed_mean = torch.mean(embed, dim=0)\n",
    "        \n",
    "        h = self.fc1(embed_mean)\n",
    "        h = F.relu(h)\n",
    "        h = self.fc2(h)\n",
    "        return h"
   ]
  },
  {
   "cell_type": "markdown",
   "metadata": {},
   "source": [
    "With the model defined, we can instantiate, train, and evaluate.\n",
    "Try doing so below!\n",
    "Because of the way we organized our model as an `nn.Module` and our data pipeline with a `DataLoader`, you should be able to use much of the same code as we have in other examples.\n",
    "\n",
    "<font size=\"1\"> \n",
    "Note: Depending on you system, training may take up to a few hours, depending on how many training epochs you set.\n",
    "To see results sooner, you can train for less iterations, but perhaps at the cost of final accuracy.\n",
    "On the other hand, using a GPU (and GPU-enabled PyTorch) should enable full training in a couple minutes.\n",
    "</font>"
   ]
  },
  {
   "cell_type": "code",
   "execution_count": 28,
   "metadata": {},
   "outputs": [],
   "source": [
    "### YOUR CODE HERE ###\n",
    "\n",
    "# Initialize the model\n",
    "model_swem = SWEM(VOCAB_SIZE, EMBED_DIM, HIDDEN_DIM, NUM_OUTPUTS)\n"
   ]
  },
  {
   "cell_type": "code",
   "execution_count": 38,
   "metadata": {},
   "outputs": [
    {
     "name": "stdout",
     "output_type": "stream",
     "text": [
      "[torch.Size([102179, 100]), torch.Size([192, 100]), torch.Size([192, 64]), torch.Size([192]), torch.Size([192]), torch.Size([192, 64]), torch.Size([192, 64]), torch.Size([192]), torch.Size([192]), torch.Size([4, 64]), torch.Size([4])]\n"
     ]
    }
   ],
   "source": [
    "### YOUR CODE HERE ###\n",
    "\n",
    "# Create loss function and optimizer\n",
    "loss_fn = nn.CrossEntropyLoss()\n",
    "optimizer = torch.optim.Adam(model_swem.parameters(), lr=0.001)\n",
    "\n",
    "print([p.shape for p in model_gru.parameters()])\n"
   ]
  },
  {
   "cell_type": "code",
   "execution_count": 30,
   "metadata": {},
   "outputs": [
    {
     "name": "stdout",
     "output_type": "stream",
     "text": [
      "Epoch: 0 \t Batch Num: 50 \t Train Loss: 1.379472255706787 \t Train Acc: 0.3006249964237213\n",
      "Epoch: 0 \t Batch Num: 100 \t Train Loss: 1.3291141986846924 \t Train Acc: 0.32929688692092896\n",
      "Epoch: 0 \t Batch Num: 150 \t Train Loss: 1.193419098854065 \t Train Acc: 0.382708340883255\n",
      "Epoch: 0 \t Batch Num: 200 \t Train Loss: 1.0379514694213867 \t Train Acc: 0.43460938334465027\n",
      "Epoch: 0 \t Batch Num: 250 \t Train Loss: 0.745442807674408 \t Train Acc: 0.48656249046325684\n",
      "Epoch: 0 \t Batch Num: 300 \t Train Loss: 0.7067626118659973 \t Train Acc: 0.5308333039283752\n",
      "Epoch: 0 \t Batch Num: 350 \t Train Loss: 0.7388306856155396 \t Train Acc: 0.5698884129524231\n",
      "Epoch: 0 \t Batch Num: 400 \t Train Loss: 0.568041205406189 \t Train Acc: 0.5994336009025574\n",
      "Epoch: 0 \t Batch Num: 450 \t Train Loss: 0.4708831310272217 \t Train Acc: 0.624670147895813\n",
      "Epoch: 0 \t Batch Num: 500 \t Train Loss: 0.4819585680961609 \t Train Acc: 0.6454843878746033\n",
      "Epoch: 0 \t Batch Num: 550 \t Train Loss: 0.38743454217910767 \t Train Acc: 0.663309633731842\n",
      "Epoch: 0 \t Batch Num: 600 \t Train Loss: 0.3881957232952118 \t Train Acc: 0.6793228983879089\n",
      "Epoch: 0 \t Batch Num: 650 \t Train Loss: 0.4832537770271301 \t Train Acc: 0.6923918128013611\n",
      "Epoch: 0 \t Batch Num: 700 \t Train Loss: 0.3613530099391937 \t Train Acc: 0.7045312523841858\n",
      "Epoch: 0 \t Batch Num: 750 \t Train Loss: 0.4867583215236664 \t Train Acc: 0.7151458263397217\n",
      "Epoch: 0 \t Batch Num: 800 \t Train Loss: 0.43181174993515015 \t Train Acc: 0.7241601347923279\n",
      "Epoch: 0 \t Batch Num: 850 \t Train Loss: 0.40203872323036194 \t Train Acc: 0.7326654195785522\n",
      "Epoch: 0 \t Batch Num: 900 \t Train Loss: 0.34750956296920776 \t Train Acc: 0.7411892414093018\n",
      "Epoch: 1 \t Batch Num: 50 \t Train Loss: 0.3305836021900177 \t Train Acc: 0.8926562666893005\n",
      "Epoch: 1 \t Batch Num: 100 \t Train Loss: 0.3324803411960602 \t Train Acc: 0.8921093940734863\n",
      "Epoch: 1 \t Batch Num: 150 \t Train Loss: 0.3576070964336395 \t Train Acc: 0.8930729031562805\n",
      "Epoch: 1 \t Batch Num: 200 \t Train Loss: 0.3771759867668152 \t Train Acc: 0.8922265768051147\n",
      "Epoch: 1 \t Batch Num: 250 \t Train Loss: 0.42046305537223816 \t Train Acc: 0.8924062252044678\n",
      "Epoch: 1 \t Batch Num: 300 \t Train Loss: 0.22679457068443298 \t Train Acc: 0.8930729031562805\n",
      "Epoch: 1 \t Batch Num: 350 \t Train Loss: 0.22235631942749023 \t Train Acc: 0.8942857384681702\n",
      "Epoch: 1 \t Batch Num: 400 \t Train Loss: 0.3311542868614197 \t Train Acc: 0.8951171636581421\n",
      "Epoch: 1 \t Batch Num: 450 \t Train Loss: 0.33132821321487427 \t Train Acc: 0.8960937261581421\n",
      "Epoch: 1 \t Batch Num: 500 \t Train Loss: 0.22493045032024384 \t Train Acc: 0.8963906168937683\n",
      "Epoch: 1 \t Batch Num: 550 \t Train Loss: 0.28277388215065 \t Train Acc: 0.895852267742157\n",
      "Epoch: 1 \t Batch Num: 600 \t Train Loss: 0.3673159182071686 \t Train Acc: 0.8962369561195374\n",
      "Epoch: 1 \t Batch Num: 650 \t Train Loss: 0.33184346556663513 \t Train Acc: 0.8965144157409668\n",
      "Epoch: 1 \t Batch Num: 700 \t Train Loss: 0.23637913167476654 \t Train Acc: 0.8969531059265137\n",
      "Epoch: 1 \t Batch Num: 750 \t Train Loss: 0.31797873973846436 \t Train Acc: 0.8977500200271606\n",
      "Epoch: 1 \t Batch Num: 800 \t Train Loss: 0.279859334230423 \t Train Acc: 0.897900402545929\n",
      "Epoch: 1 \t Batch Num: 850 \t Train Loss: 0.23278310894966125 \t Train Acc: 0.8984283208847046\n",
      "Epoch: 1 \t Batch Num: 900 \t Train Loss: 0.24567066133022308 \t Train Acc: 0.898888885974884\n",
      "Epoch: 2 \t Batch Num: 50 \t Train Loss: 0.16039720177650452 \t Train Acc: 0.9157812595367432\n",
      "Epoch: 2 \t Batch Num: 100 \t Train Loss: 0.1221599131822586 \t Train Acc: 0.9175000190734863\n",
      "Epoch: 2 \t Batch Num: 150 \t Train Loss: 0.23163995146751404 \t Train Acc: 0.9179166555404663\n",
      "Epoch: 2 \t Batch Num: 200 \t Train Loss: 0.2675398886203766 \t Train Acc: 0.9190234541893005\n",
      "Epoch: 2 \t Batch Num: 250 \t Train Loss: 0.31759291887283325 \t Train Acc: 0.9192812442779541\n",
      "Epoch: 2 \t Batch Num: 300 \t Train Loss: 0.33636578917503357 \t Train Acc: 0.918541669845581\n",
      "Epoch: 2 \t Batch Num: 350 \t Train Loss: 0.3552629053592682 \t Train Acc: 0.9195982217788696\n",
      "Epoch: 2 \t Batch Num: 400 \t Train Loss: 0.19672414660453796 \t Train Acc: 0.9201562404632568\n",
      "Epoch: 2 \t Batch Num: 450 \t Train Loss: 0.20988650619983673 \t Train Acc: 0.9202604293823242\n",
      "Epoch: 2 \t Batch Num: 500 \t Train Loss: 0.28460264205932617 \t Train Acc: 0.9204375147819519\n",
      "Epoch: 2 \t Batch Num: 550 \t Train Loss: 0.25814107060432434 \t Train Acc: 0.9207386374473572\n",
      "Epoch: 2 \t Batch Num: 600 \t Train Loss: 0.18480323255062103 \t Train Acc: 0.9204036593437195\n",
      "Epoch: 2 \t Batch Num: 650 \t Train Loss: 0.30610907077789307 \t Train Acc: 0.9200000166893005\n",
      "Epoch: 2 \t Batch Num: 700 \t Train Loss: 0.1945805549621582 \t Train Acc: 0.9202455282211304\n",
      "Epoch: 2 \t Batch Num: 750 \t Train Loss: 0.2966682016849518 \t Train Acc: 0.9209166765213013\n",
      "Epoch: 2 \t Batch Num: 800 \t Train Loss: 0.2623373866081238 \t Train Acc: 0.9207519292831421\n",
      "Epoch: 2 \t Batch Num: 850 \t Train Loss: 0.2251301109790802 \t Train Acc: 0.9209007620811462\n",
      "Epoch: 2 \t Batch Num: 900 \t Train Loss: 0.11383169889450073 \t Train Acc: 0.9208333492279053\n",
      "Epoch: 3 \t Batch Num: 50 \t Train Loss: 0.12196189910173416 \t Train Acc: 0.9334375262260437\n",
      "Epoch: 3 \t Batch Num: 100 \t Train Loss: 0.2246595174074173 \t Train Acc: 0.9331250190734863\n",
      "Epoch: 3 \t Batch Num: 150 \t Train Loss: 0.2609722316265106 \t Train Acc: 0.9325520992279053\n",
      "Epoch: 3 \t Batch Num: 200 \t Train Loss: 0.21015340089797974 \t Train Acc: 0.9323437213897705\n",
      "Epoch: 3 \t Batch Num: 250 \t Train Loss: 0.1551530957221985 \t Train Acc: 0.9327187538146973\n",
      "Epoch: 3 \t Batch Num: 300 \t Train Loss: 0.14700032770633698 \t Train Acc: 0.9330468773841858\n",
      "Epoch: 3 \t Batch Num: 350 \t Train Loss: 0.12721332907676697 \t Train Acc: 0.9334598183631897\n",
      "Epoch: 3 \t Batch Num: 400 \t Train Loss: 0.2665570080280304 \t Train Acc: 0.9328515529632568\n",
      "Epoch: 3 \t Batch Num: 450 \t Train Loss: 0.14293913543224335 \t Train Acc: 0.9322916865348816\n",
      "Epoch: 3 \t Batch Num: 500 \t Train Loss: 0.250433087348938 \t Train Acc: 0.9315780997276306\n",
      "Epoch: 3 \t Batch Num: 550 \t Train Loss: 0.1692909449338913 \t Train Acc: 0.9320880770683289\n",
      "Epoch: 3 \t Batch Num: 600 \t Train Loss: 0.18667905032634735 \t Train Acc: 0.9322004914283752\n",
      "Epoch: 3 \t Batch Num: 650 \t Train Loss: 0.3214503228664398 \t Train Acc: 0.9327884912490845\n",
      "Epoch: 3 \t Batch Num: 700 \t Train Loss: 0.1142483577132225 \t Train Acc: 0.9327120780944824\n",
      "Epoch: 3 \t Batch Num: 750 \t Train Loss: 0.2257998287677765 \t Train Acc: 0.9326249957084656\n",
      "Epoch: 3 \t Batch Num: 800 \t Train Loss: 0.133091539144516 \t Train Acc: 0.9324902296066284\n",
      "Epoch: 3 \t Batch Num: 850 \t Train Loss: 0.24061886966228485 \t Train Acc: 0.9327757358551025\n",
      "Epoch: 3 \t Batch Num: 900 \t Train Loss: 0.16006384789943695 \t Train Acc: 0.9329426884651184\n",
      "Epoch: 4 \t Batch Num: 50 \t Train Loss: 0.19475290179252625 \t Train Acc: 0.9393749833106995\n",
      "Epoch: 4 \t Batch Num: 100 \t Train Loss: 0.22273795306682587 \t Train Acc: 0.9408593773841858\n",
      "Epoch: 4 \t Batch Num: 150 \t Train Loss: 0.27881988883018494 \t Train Acc: 0.9402083158493042\n",
      "Epoch: 4 \t Batch Num: 200 \t Train Loss: 0.16237321496009827 \t Train Acc: 0.9410156011581421\n",
      "Epoch: 4 \t Batch Num: 250 \t Train Loss: 0.16632935404777527 \t Train Acc: 0.9417187571525574\n",
      "Epoch: 4 \t Batch Num: 300 \t Train Loss: 0.26278790831565857 \t Train Acc: 0.941979169845581\n",
      "Epoch: 4 \t Batch Num: 350 \t Train Loss: 0.23846180737018585 \t Train Acc: 0.9408928751945496\n",
      "Epoch: 4 \t Batch Num: 400 \t Train Loss: 0.12627796828746796 \t Train Acc: 0.94091796875\n",
      "Epoch: 4 \t Batch Num: 450 \t Train Loss: 0.21405407786369324 \t Train Acc: 0.9412326216697693\n",
      "Epoch: 4 \t Batch Num: 500 \t Train Loss: 0.26331159472465515 \t Train Acc: 0.9412343502044678\n",
      "Epoch: 4 \t Batch Num: 550 \t Train Loss: 0.24835838377475739 \t Train Acc: 0.9407954812049866\n",
      "Epoch: 4 \t Batch Num: 600 \t Train Loss: 0.18303847312927246 \t Train Acc: 0.9408593773841858\n",
      "Epoch: 4 \t Batch Num: 650 \t Train Loss: 0.19485418498516083 \t Train Acc: 0.9410096406936646\n",
      "Epoch: 4 \t Batch Num: 700 \t Train Loss: 0.18500936031341553 \t Train Acc: 0.9409933090209961\n",
      "Epoch: 4 \t Batch Num: 750 \t Train Loss: 0.2271628975868225 \t Train Acc: 0.9413541555404663\n",
      "Epoch: 4 \t Batch Num: 800 \t Train Loss: 0.22500073909759521 \t Train Acc: 0.9413476586341858\n",
      "Epoch: 4 \t Batch Num: 850 \t Train Loss: 0.19625148177146912 \t Train Acc: 0.9413694739341736\n",
      "Epoch: 4 \t Batch Num: 900 \t Train Loss: 0.22278600931167603 \t Train Acc: 0.9415190815925598\n"
     ]
    }
   ],
   "source": [
    "### YOUR CODE HERE ###\n",
    "\n",
    "for epoch in range(NUM_EPOCHS):\n",
    "    correct = 0\n",
    "    num_examples = 0\n",
    "    mini_batch_num = 0\n",
    "    for x, labels in train_loader:\n",
    "        mini_batch_num += 1\n",
    "        # Reset grads\n",
    "        optimizer.zero_grad()\n",
    "        # Forward pass\n",
    "        y = model_swem(x)\n",
    "        # Calc the loss\n",
    "        loss = loss_fn(y, labels)\n",
    "        # Backward pass\n",
    "        loss.backward()\n",
    "        # Update the parameters\n",
    "        optimizer.step()\n",
    "\n",
    "        predictions = torch.argmax(y, dim=1)\n",
    "        correct += torch.sum((predictions == labels).float())\n",
    "        num_examples += x.shape[1]\n",
    "\n",
    "        if mini_batch_num % 50 == 0:\n",
    "            acc = correct/num_examples\n",
    "            print(f\"Epoch: {epoch} \\t Batch Num: {mini_batch_num} \\t Train Loss: {loss} \\t Train Acc: {acc}\")\n",
    "\n",
    "    "
   ]
  },
  {
   "cell_type": "code",
   "execution_count": 31,
   "metadata": {},
   "outputs": [
    {
     "name": "stdout",
     "output_type": "stream",
     "text": [
      "Test accuracy: 0.9031578898429871\n"
     ]
    }
   ],
   "source": [
    "## Testing\n",
    "correct = 0\n",
    "num_test = 0\n",
    "\n",
    "with torch.no_grad():\n",
    "    # Iterate through test set minibatchs \n",
    "    for x, labels in test_loader:\n",
    "        # Forward pass\n",
    "        y = model_swem(x)\n",
    "        predictions = torch.argmax(y, dim=1)\n",
    "        correct += torch.sum((predictions == labels).float())\n",
    "        num_test += x.shape[1]        \n",
    "    \n",
    "print('Test accuracy: {}'.format(correct/num_test))\n"
   ]
  },
  {
   "cell_type": "markdown",
   "metadata": {},
   "source": [
    "### RNNs"
   ]
  },
  {
   "cell_type": "markdown",
   "metadata": {},
   "source": [
    "SWEM takes a mean over the time dimension, which means we're losing any information about the order of the data sequence.\n",
    "How detrimental is this for document topic classification?\n",
    "Modify the SWEM model to use an RNN instead.\n",
    "Once you get an RNN working, try a GRU and LSTM as well."
   ]
  },
  {
   "cell_type": "code",
   "execution_count": 12,
   "metadata": {},
   "outputs": [],
   "source": [
    "### YOUR CODE HERE ###\n",
    "import torch.nn as nn\n",
    "import torch.nn.functional as F\n",
    "\n",
    "class SRNN(nn.Module):\n",
    "    def __init__(self, vocab_size, embedding_size, hidden_dim, rnn_layers, num_outputs):\n",
    "        super().__init__()\n",
    "        self.hidden_dim = hidden_dim\n",
    "        self.embedding = nn.Embedding(vocab_size, embedding_size)\n",
    "        self.rnn = nn.RNN(embedding_size, hidden_dim, num_layers=rnn_layers)\n",
    "        self.fc1 = nn.Linear(hidden_dim, num_outputs)\n",
    "\n",
    "    def forward(self, x):\n",
    "        embed = self.embedding(x)\n",
    "        out, h = self.rnn(embed)\n",
    "        embed_mean = torch.mean(out, dim=0)\n",
    "        pred = self.fc1(embed_mean) \n",
    "        return pred\n",
    "   "
   ]
  },
  {
   "cell_type": "code",
   "execution_count": 13,
   "metadata": {},
   "outputs": [],
   "source": [
    "### YOUR CODE HERE ###\n",
    "RNN_LAYERS = 2\n",
    "# Initialize the model\n",
    "model_rnn = SRNN(VOCAB_SIZE, EMBED_DIM, HIDDEN_DIM, RNN_LAYERS, NUM_OUTPUTS)\n"
   ]
  },
  {
   "cell_type": "code",
   "execution_count": 14,
   "metadata": {},
   "outputs": [
    {
     "name": "stdout",
     "output_type": "stream",
     "text": [
      "[torch.Size([102179, 100]), torch.Size([64, 100]), torch.Size([64, 64]), torch.Size([64]), torch.Size([64]), torch.Size([64, 64]), torch.Size([64, 64]), torch.Size([64]), torch.Size([64]), torch.Size([4, 64]), torch.Size([4])]\n"
     ]
    }
   ],
   "source": [
    "### YOUR CODE HERE ###\n",
    "\n",
    "# Create loss function and optimizer\n",
    "loss_fn = nn.CrossEntropyLoss()\n",
    "optimizer = torch.optim.Adam(model_rnn.parameters(), lr=0.001)\n",
    "\n",
    "print([p.shape for p in model_rnn.parameters()])"
   ]
  },
  {
   "cell_type": "code",
   "execution_count": 15,
   "metadata": {},
   "outputs": [
    {
     "name": "stdout",
     "output_type": "stream",
     "text": [
      "Epoch: 0 \t Batch Num: 50 \t Train Loss: 1.3606551885604858 \t Train Acc: 0.26953125\n",
      "Epoch: 0 \t Batch Num: 100 \t Train Loss: 1.2310659885406494 \t Train Acc: 0.3180468678474426\n",
      "Epoch: 0 \t Batch Num: 150 \t Train Loss: 1.0034176111221313 \t Train Acc: 0.3824479281902313\n",
      "Epoch: 0 \t Batch Num: 200 \t Train Loss: 0.9215617179870605 \t Train Acc: 0.4471093714237213\n",
      "Epoch: 0 \t Batch Num: 250 \t Train Loss: 0.7810717821121216 \t Train Acc: 0.49696874618530273\n",
      "Epoch: 0 \t Batch Num: 300 \t Train Loss: 0.6499370336532593 \t Train Acc: 0.5348437428474426\n",
      "Epoch: 0 \t Batch Num: 350 \t Train Loss: 0.43504711985588074 \t Train Acc: 0.5658705234527588\n",
      "Epoch: 0 \t Batch Num: 400 \t Train Loss: 0.5552324056625366 \t Train Acc: 0.5919140577316284\n",
      "Epoch: 0 \t Batch Num: 450 \t Train Loss: 0.6894865036010742 \t Train Acc: 0.6113020777702332\n",
      "Epoch: 0 \t Batch Num: 500 \t Train Loss: 0.519778311252594 \t Train Acc: 0.630484402179718\n",
      "Epoch: 0 \t Batch Num: 550 \t Train Loss: 0.5694618225097656 \t Train Acc: 0.6455113887786865\n",
      "Epoch: 0 \t Batch Num: 600 \t Train Loss: 0.6947382092475891 \t Train Acc: 0.6594140529632568\n",
      "Epoch: 0 \t Batch Num: 650 \t Train Loss: 0.5539144277572632 \t Train Acc: 0.6712860465049744\n",
      "Epoch: 0 \t Batch Num: 700 \t Train Loss: 0.3994008004665375 \t Train Acc: 0.6822656393051147\n",
      "Epoch: 0 \t Batch Num: 750 \t Train Loss: 0.4878059923648834 \t Train Acc: 0.6918749809265137\n",
      "Epoch: 0 \t Batch Num: 800 \t Train Loss: 0.40930959582328796 \t Train Acc: 0.7009472846984863\n",
      "Epoch: 0 \t Batch Num: 850 \t Train Loss: 0.536960244178772 \t Train Acc: 0.7092646956443787\n",
      "Epoch: 0 \t Batch Num: 900 \t Train Loss: 0.3587132394313812 \t Train Acc: 0.7168489694595337\n",
      "Epoch: 1 \t Batch Num: 50 \t Train Loss: 0.3136759400367737 \t Train Acc: 0.867968738079071\n",
      "Epoch: 1 \t Batch Num: 100 \t Train Loss: 0.36801743507385254 \t Train Acc: 0.8686718940734863\n",
      "Epoch: 1 \t Batch Num: 150 \t Train Loss: 0.38211894035339355 \t Train Acc: 0.8701562285423279\n",
      "Epoch: 1 \t Batch Num: 200 \t Train Loss: 0.5077446699142456 \t Train Acc: 0.8716406226158142\n",
      "Epoch: 1 \t Batch Num: 250 \t Train Loss: 0.4305042028427124 \t Train Acc: 0.8730312585830688\n",
      "Epoch: 1 \t Batch Num: 300 \t Train Loss: 0.2998025715351105 \t Train Acc: 0.8731510639190674\n",
      "Epoch: 1 \t Batch Num: 350 \t Train Loss: 0.3230384886264801 \t Train Acc: 0.8735491037368774\n",
      "Epoch: 1 \t Batch Num: 400 \t Train Loss: 0.38565099239349365 \t Train Acc: 0.8743749856948853\n",
      "Epoch: 1 \t Batch Num: 450 \t Train Loss: 0.3306788504123688 \t Train Acc: 0.874670147895813\n",
      "Epoch: 1 \t Batch Num: 500 \t Train Loss: 0.36990615725517273 \t Train Acc: 0.874875009059906\n",
      "Epoch: 1 \t Batch Num: 550 \t Train Loss: 0.5548279285430908 \t Train Acc: 0.8762357831001282\n",
      "Epoch: 1 \t Batch Num: 600 \t Train Loss: 0.5101060271263123 \t Train Acc: 0.8763932585716248\n",
      "Epoch: 1 \t Batch Num: 650 \t Train Loss: 0.4032793641090393 \t Train Acc: 0.8772355914115906\n",
      "Epoch: 1 \t Batch Num: 700 \t Train Loss: 0.3802102208137512 \t Train Acc: 0.8780803680419922\n",
      "Epoch: 1 \t Batch Num: 750 \t Train Loss: 0.5066291093826294 \t Train Acc: 0.878614604473114\n",
      "Epoch: 1 \t Batch Num: 800 \t Train Loss: 0.2842117249965668 \t Train Acc: 0.8792675733566284\n",
      "Epoch: 1 \t Batch Num: 850 \t Train Loss: 0.34922173619270325 \t Train Acc: 0.8801746368408203\n",
      "Epoch: 1 \t Batch Num: 900 \t Train Loss: 0.35189148783683777 \t Train Acc: 0.880772590637207\n",
      "Epoch: 2 \t Batch Num: 50 \t Train Loss: 0.43783843517303467 \t Train Acc: 0.9009374976158142\n",
      "Epoch: 2 \t Batch Num: 100 \t Train Loss: 0.33754172921180725 \t Train Acc: 0.9048437476158142\n",
      "Epoch: 2 \t Batch Num: 150 \t Train Loss: 0.21340087056159973 \t Train Acc: 0.9033854007720947\n",
      "Epoch: 2 \t Batch Num: 200 \t Train Loss: 0.3670105040073395 \t Train Acc: 0.9051172137260437\n",
      "Epoch: 2 \t Batch Num: 250 \t Train Loss: 0.34444740414619446 \t Train Acc: 0.9053750038146973\n",
      "Epoch: 2 \t Batch Num: 300 \t Train Loss: 0.26003575325012207 \t Train Acc: 0.9049218893051147\n",
      "Epoch: 2 \t Batch Num: 350 \t Train Loss: 0.3605247139930725 \t Train Acc: 0.9057589173316956\n",
      "Epoch: 2 \t Batch Num: 400 \t Train Loss: 0.3322533071041107 \t Train Acc: 0.9074609279632568\n",
      "Epoch: 2 \t Batch Num: 450 \t Train Loss: 0.23795166611671448 \t Train Acc: 0.9082465171813965\n",
      "Epoch: 2 \t Batch Num: 500 \t Train Loss: 0.2483391910791397 \t Train Acc: 0.9080937504768372\n",
      "Epoch: 2 \t Batch Num: 550 \t Train Loss: 0.2893159091472626 \t Train Acc: 0.9083948731422424\n",
      "Epoch: 2 \t Batch Num: 600 \t Train Loss: 0.24789339303970337 \t Train Acc: 0.9087890386581421\n",
      "Epoch: 2 \t Batch Num: 650 \t Train Loss: 0.27735209465026855 \t Train Acc: 0.9089903831481934\n",
      "Epoch: 2 \t Batch Num: 700 \t Train Loss: 0.2890508472919464 \t Train Acc: 0.908962070941925\n",
      "Epoch: 2 \t Batch Num: 750 \t Train Loss: 0.29060959815979004 \t Train Acc: 0.9090104103088379\n",
      "Epoch: 2 \t Batch Num: 800 \t Train Loss: 0.3682401478290558 \t Train Acc: 0.9092090129852295\n",
      "Epoch: 2 \t Batch Num: 850 \t Train Loss: 0.4218257665634155 \t Train Acc: 0.9093290567398071\n",
      "Epoch: 2 \t Batch Num: 900 \t Train Loss: 0.2258840948343277 \t Train Acc: 0.9095659852027893\n",
      "Epoch: 3 \t Batch Num: 50 \t Train Loss: 0.288371205329895 \t Train Acc: 0.9301562309265137\n",
      "Epoch: 3 \t Batch Num: 100 \t Train Loss: 0.20294883847236633 \t Train Acc: 0.9275000095367432\n",
      "Epoch: 3 \t Batch Num: 150 \t Train Loss: 0.21286837756633759 \t Train Acc: 0.9271875023841858\n",
      "Epoch: 3 \t Batch Num: 200 \t Train Loss: 0.25543397665023804 \t Train Acc: 0.9271093606948853\n",
      "Epoch: 3 \t Batch Num: 250 \t Train Loss: 0.21887604892253876 \t Train Acc: 0.9275000095367432\n",
      "Epoch: 3 \t Batch Num: 300 \t Train Loss: 0.25560155510902405 \t Train Acc: 0.9272135496139526\n",
      "Epoch: 3 \t Batch Num: 350 \t Train Loss: 0.16231058537960052 \t Train Acc: 0.928303599357605\n",
      "Epoch: 3 \t Batch Num: 400 \t Train Loss: 0.2405790239572525 \t Train Acc: 0.9275195598602295\n",
      "Epoch: 3 \t Batch Num: 450 \t Train Loss: 0.28157901763916016 \t Train Acc: 0.9276215434074402\n",
      "Epoch: 3 \t Batch Num: 500 \t Train Loss: 0.23581629991531372 \t Train Acc: 0.9271249771118164\n",
      "Epoch: 3 \t Batch Num: 550 \t Train Loss: 0.2277584969997406 \t Train Acc: 0.9270312786102295\n",
      "Epoch: 3 \t Batch Num: 600 \t Train Loss: 0.30542001128196716 \t Train Acc: 0.9264973998069763\n",
      "Epoch: 3 \t Batch Num: 650 \t Train Loss: 0.2716384828090668 \t Train Acc: 0.9264903664588928\n",
      "Epoch: 3 \t Batch Num: 700 \t Train Loss: 0.23514576256275177 \t Train Acc: 0.9262946248054504\n",
      "Epoch: 3 \t Batch Num: 750 \t Train Loss: 0.24365682899951935 \t Train Acc: 0.9260104298591614\n",
      "Epoch: 3 \t Batch Num: 800 \t Train Loss: 0.27764615416526794 \t Train Acc: 0.9255175590515137\n",
      "Epoch: 3 \t Batch Num: 850 \t Train Loss: 0.18319982290267944 \t Train Acc: 0.9254687428474426\n",
      "Epoch: 3 \t Batch Num: 900 \t Train Loss: 0.2030172049999237 \t Train Acc: 0.9256510138511658\n",
      "Epoch: 4 \t Batch Num: 50 \t Train Loss: 0.19852817058563232 \t Train Acc: 0.9434375166893005\n",
      "Epoch: 4 \t Batch Num: 100 \t Train Loss: 0.2362930178642273 \t Train Acc: 0.9398437738418579\n",
      "Epoch: 4 \t Batch Num: 150 \t Train Loss: 0.2779180109500885 \t Train Acc: 0.9386979341506958\n",
      "Epoch: 4 \t Batch Num: 200 \t Train Loss: 0.1606747806072235 \t Train Acc: 0.9382030963897705\n",
      "Epoch: 4 \t Batch Num: 250 \t Train Loss: 0.10997261106967926 \t Train Acc: 0.9380937218666077\n",
      "Epoch: 4 \t Batch Num: 300 \t Train Loss: 0.12173113971948624 \t Train Acc: 0.9389062523841858\n",
      "Epoch: 4 \t Batch Num: 350 \t Train Loss: 0.20017075538635254 \t Train Acc: 0.9391964077949524\n",
      "Epoch: 4 \t Batch Num: 400 \t Train Loss: 0.17512495815753937 \t Train Acc: 0.9387890696525574\n",
      "Epoch: 4 \t Batch Num: 450 \t Train Loss: 0.2735195755958557 \t Train Acc: 0.9390451312065125\n",
      "Epoch: 4 \t Batch Num: 500 \t Train Loss: 0.20715506374835968 \t Train Acc: 0.9384687542915344\n",
      "Epoch: 4 \t Batch Num: 550 \t Train Loss: 0.11183958500623703 \t Train Acc: 0.9386931657791138\n",
      "Epoch: 4 \t Batch Num: 600 \t Train Loss: 0.1442500501871109 \t Train Acc: 0.9387630224227905\n",
      "Epoch: 4 \t Batch Num: 650 \t Train Loss: 0.24575887620449066 \t Train Acc: 0.9388822317123413\n",
      "Epoch: 4 \t Batch Num: 700 \t Train Loss: 0.18017849326133728 \t Train Acc: 0.9380580186843872\n",
      "Epoch: 4 \t Batch Num: 750 \t Train Loss: 0.1993391364812851 \t Train Acc: 0.9380937218666077\n",
      "Epoch: 4 \t Batch Num: 800 \t Train Loss: 0.24957408010959625 \t Train Acc: 0.9378515481948853\n",
      "Epoch: 4 \t Batch Num: 850 \t Train Loss: 0.15595893561840057 \t Train Acc: 0.9376746416091919\n",
      "Epoch: 4 \t Batch Num: 900 \t Train Loss: 0.30510154366493225 \t Train Acc: 0.9374826550483704\n"
     ]
    }
   ],
   "source": [
    " ### YOUR CODE HERE ###\n",
    "\n",
    "for epoch in range(NUM_EPOCHS):\n",
    "    correct = 0\n",
    "    num_examples = 0\n",
    "    mini_batch_num = 0\n",
    "    for x, labels in train_loader:\n",
    "        mini_batch_num += 1\n",
    "        # Reset grads\n",
    "        optimizer.zero_grad()\n",
    "        # Forward pass\n",
    "        y = model_rnn(x)\n",
    "        # Calc the loss\n",
    "        loss = loss_fn(y, labels)\n",
    "        # Backward pass\n",
    "        loss.backward()\n",
    "        # Update the parameters\n",
    "        optimizer.step()\n",
    "\n",
    "        predictions = torch.argmax(y, dim=1)\n",
    "        correct += torch.sum((predictions == labels).float())\n",
    "        num_examples += x.shape[1]\n",
    "\n",
    "        if mini_batch_num % 50 == 0:\n",
    "            acc = correct/num_examples\n",
    "            print(f\"Epoch: {epoch} \\t Batch Num: {mini_batch_num} \\t Train Loss: {loss} \\t Train Acc: {acc}\")"
   ]
  },
  {
   "cell_type": "code",
   "execution_count": 16,
   "metadata": {},
   "outputs": [
    {
     "name": "stdout",
     "output_type": "stream",
     "text": [
      "Test accuracy: 0.8907894492149353\n"
     ]
    }
   ],
   "source": [
    "## Testing\n",
    "correct = 0\n",
    "num_test = 0\n",
    "\n",
    "with torch.no_grad():\n",
    "    # Iterate through test set minibatchs \n",
    "    for x, labels in test_loader:\n",
    "        # Forward pass\n",
    "        y = model_rnn(x)\n",
    "        predictions = torch.argmax(y, dim=1)\n",
    "        correct += torch.sum((predictions == labels).float())\n",
    "        num_test += x.shape[1]        \n",
    "    \n",
    "print('Test accuracy: {}'.format(correct/num_test))\n"
   ]
  },
  {
   "cell_type": "markdown",
   "metadata": {},
   "source": [
    "### LSTM"
   ]
  },
  {
   "cell_type": "code",
   "execution_count": 17,
   "metadata": {},
   "outputs": [],
   "source": [
    "### YOUR CODE HERE ###\n",
    "import torch.nn as nn\n",
    "import torch.nn.functional as F\n",
    "\n",
    "class SLSTM(nn.Module):\n",
    "    def __init__(self, vocab_size, embedding_size, hidden_dim, rnn_layers, num_outputs):\n",
    "        super().__init__()\n",
    "        self.hidden_dim = hidden_dim\n",
    "        self.embedding = nn.Embedding(vocab_size, embedding_size)\n",
    "        self.lstm = nn.LSTM(embedding_size, hidden_dim, num_layers=rnn_layers)\n",
    "        self.fc1 = nn.Linear(hidden_dim, num_outputs)\n",
    "\n",
    "    def forward(self, x):\n",
    "        embed = self.embedding(x)\n",
    "        out, h = self.lstm(embed)\n",
    "        embed_mean = torch.mean(out, dim=0)\n",
    "        pred = self.fc1(embed_mean) \n",
    "        return pred\n",
    "   "
   ]
  },
  {
   "cell_type": "code",
   "execution_count": 18,
   "metadata": {},
   "outputs": [],
   "source": [
    "### YOUR CODE HERE ###\n",
    "RNN_LAYERS = 2\n",
    "# Initialize the model\n",
    "model_lstm = SLSTM(VOCAB_SIZE, EMBED_DIM, HIDDEN_DIM, RNN_LAYERS, NUM_OUTPUTS)\n"
   ]
  },
  {
   "cell_type": "code",
   "execution_count": 19,
   "metadata": {},
   "outputs": [
    {
     "name": "stdout",
     "output_type": "stream",
     "text": [
      "[torch.Size([102179, 100]), torch.Size([256, 100]), torch.Size([256, 64]), torch.Size([256]), torch.Size([256]), torch.Size([256, 64]), torch.Size([256, 64]), torch.Size([256]), torch.Size([256]), torch.Size([4, 64]), torch.Size([4])]\n"
     ]
    }
   ],
   "source": [
    "### YOUR CODE HERE ###\n",
    "\n",
    "# Create loss function and optimizer\n",
    "loss_fn = nn.CrossEntropyLoss()\n",
    "optimizer = torch.optim.Adam(model_lstm.parameters(), lr=0.001)\n",
    "\n",
    "print([p.shape for p in model_lstm.parameters()])\n"
   ]
  },
  {
   "cell_type": "code",
   "execution_count": 20,
   "metadata": {},
   "outputs": [
    {
     "name": "stdout",
     "output_type": "stream",
     "text": [
      "Epoch: 0 \t Batch Num: 50 \t Train Loss: 1.366959810256958 \t Train Acc: 0.28187501430511475\n",
      "Epoch: 0 \t Batch Num: 100 \t Train Loss: 1.0923306941986084 \t Train Acc: 0.3824218809604645\n",
      "Epoch: 0 \t Batch Num: 150 \t Train Loss: 0.878016471862793 \t Train Acc: 0.4532812535762787\n",
      "Epoch: 0 \t Batch Num: 200 \t Train Loss: 0.7977313995361328 \t Train Acc: 0.502148449420929\n",
      "Epoch: 0 \t Batch Num: 250 \t Train Loss: 0.7197909951210022 \t Train Acc: 0.5402500033378601\n",
      "Epoch: 0 \t Batch Num: 300 \t Train Loss: 0.6239700317382812 \t Train Acc: 0.57442706823349\n",
      "Epoch: 0 \t Batch Num: 350 \t Train Loss: 0.6686455607414246 \t Train Acc: 0.6020312309265137\n",
      "Epoch: 0 \t Batch Num: 400 \t Train Loss: 0.6089595556259155 \t Train Acc: 0.6276757717132568\n",
      "Epoch: 0 \t Batch Num: 450 \t Train Loss: 0.3940446972846985 \t Train Acc: 0.648559033870697\n",
      "Epoch: 0 \t Batch Num: 500 \t Train Loss: 0.5151731967926025 \t Train Acc: 0.666671872138977\n",
      "Epoch: 0 \t Batch Num: 550 \t Train Loss: 0.3537208139896393 \t Train Acc: 0.6817187666893005\n",
      "Epoch: 0 \t Batch Num: 600 \t Train Loss: 0.40281692147254944 \t Train Acc: 0.6946094036102295\n",
      "Epoch: 0 \t Batch Num: 650 \t Train Loss: 0.5191891193389893 \t Train Acc: 0.705877423286438\n",
      "Epoch: 0 \t Batch Num: 700 \t Train Loss: 0.5224709510803223 \t Train Acc: 0.7159598469734192\n",
      "Epoch: 0 \t Batch Num: 750 \t Train Loss: 0.32316768169403076 \t Train Acc: 0.7256770730018616\n",
      "Epoch: 0 \t Batch Num: 800 \t Train Loss: 0.42559701204299927 \t Train Acc: 0.7341699004173279\n",
      "Epoch: 0 \t Batch Num: 850 \t Train Loss: 0.38016071915626526 \t Train Acc: 0.7420128583908081\n",
      "Epoch: 0 \t Batch Num: 900 \t Train Loss: 0.42394351959228516 \t Train Acc: 0.7487413287162781\n",
      "Epoch: 1 \t Batch Num: 50 \t Train Loss: 0.3524392545223236 \t Train Acc: 0.8857812285423279\n",
      "Epoch: 1 \t Batch Num: 100 \t Train Loss: 0.38294461369514465 \t Train Acc: 0.8871874809265137\n",
      "Epoch: 1 \t Batch Num: 150 \t Train Loss: 0.2615257501602173 \t Train Acc: 0.8881250023841858\n",
      "Epoch: 1 \t Batch Num: 200 \t Train Loss: 0.3629944622516632 \t Train Acc: 0.8863672018051147\n",
      "Epoch: 1 \t Batch Num: 250 \t Train Loss: 0.2321368306875229 \t Train Acc: 0.8889374732971191\n",
      "Epoch: 1 \t Batch Num: 300 \t Train Loss: 0.3487885594367981 \t Train Acc: 0.8893229365348816\n",
      "Epoch: 1 \t Batch Num: 350 \t Train Loss: 0.22899992763996124 \t Train Acc: 0.8910937309265137\n",
      "Epoch: 1 \t Batch Num: 400 \t Train Loss: 0.3275190591812134 \t Train Acc: 0.8913280963897705\n",
      "Epoch: 1 \t Batch Num: 450 \t Train Loss: 0.2551106810569763 \t Train Acc: 0.8914756774902344\n",
      "Epoch: 1 \t Batch Num: 500 \t Train Loss: 0.31178078055381775 \t Train Acc: 0.8916562795639038\n",
      "Epoch: 1 \t Batch Num: 550 \t Train Loss: 0.308665931224823 \t Train Acc: 0.8919744491577148\n",
      "Epoch: 1 \t Batch Num: 600 \t Train Loss: 0.22837409377098083 \t Train Acc: 0.8924999833106995\n",
      "Epoch: 1 \t Batch Num: 650 \t Train Loss: 0.2370055615901947 \t Train Acc: 0.8925240635871887\n",
      "Epoch: 1 \t Batch Num: 700 \t Train Loss: 0.3713422119617462 \t Train Acc: 0.8933035731315613\n",
      "Epoch: 1 \t Batch Num: 750 \t Train Loss: 0.2827829122543335 \t Train Acc: 0.893541693687439\n",
      "Epoch: 1 \t Batch Num: 800 \t Train Loss: 0.4118182957172394 \t Train Acc: 0.8943164348602295\n",
      "Epoch: 1 \t Batch Num: 850 \t Train Loss: 0.2938011586666107 \t Train Acc: 0.8948712944984436\n",
      "Epoch: 1 \t Batch Num: 900 \t Train Loss: 0.28547948598861694 \t Train Acc: 0.8959201574325562\n",
      "Epoch: 2 \t Batch Num: 50 \t Train Loss: 0.15293647348880768 \t Train Acc: 0.9223437309265137\n",
      "Epoch: 2 \t Batch Num: 100 \t Train Loss: 0.22748534381389618 \t Train Acc: 0.9220312237739563\n",
      "Epoch: 2 \t Batch Num: 150 \t Train Loss: 0.20107288658618927 \t Train Acc: 0.9219791889190674\n",
      "Epoch: 2 \t Batch Num: 200 \t Train Loss: 0.3025592267513275 \t Train Acc: 0.9224609136581421\n",
      "Epoch: 2 \t Batch Num: 250 \t Train Loss: 0.2878338694572449 \t Train Acc: 0.9225937724113464\n",
      "Epoch: 2 \t Batch Num: 300 \t Train Loss: 0.21162033081054688 \t Train Acc: 0.9224739670753479\n",
      "Epoch: 2 \t Batch Num: 350 \t Train Loss: 0.2198219895362854 \t Train Acc: 0.9221428632736206\n",
      "Epoch: 2 \t Batch Num: 400 \t Train Loss: 0.194290429353714 \t Train Acc: 0.9225780963897705\n",
      "Epoch: 2 \t Batch Num: 450 \t Train Loss: 0.2459820806980133 \t Train Acc: 0.922656238079071\n",
      "Epoch: 2 \t Batch Num: 500 \t Train Loss: 0.17900778353214264 \t Train Acc: 0.9225000143051147\n",
      "Epoch: 2 \t Batch Num: 550 \t Train Loss: 0.25400421023368835 \t Train Acc: 0.9225426316261292\n",
      "Epoch: 2 \t Batch Num: 600 \t Train Loss: 0.1662055402994156 \t Train Acc: 0.9225390553474426\n",
      "Epoch: 2 \t Batch Num: 650 \t Train Loss: 0.20909897983074188 \t Train Acc: 0.9227644205093384\n",
      "Epoch: 2 \t Batch Num: 700 \t Train Loss: 0.21408821642398834 \t Train Acc: 0.9221205115318298\n",
      "Epoch: 2 \t Batch Num: 750 \t Train Loss: 0.21799790859222412 \t Train Acc: 0.9221979379653931\n",
      "Epoch: 2 \t Batch Num: 800 \t Train Loss: 0.37081146240234375 \t Train Acc: 0.9225488305091858\n",
      "Epoch: 2 \t Batch Num: 850 \t Train Loss: 0.30447688698768616 \t Train Acc: 0.9228492379188538\n",
      "Epoch: 2 \t Batch Num: 900 \t Train Loss: 0.2879340946674347 \t Train Acc: 0.9227604269981384\n",
      "Epoch: 3 \t Batch Num: 50 \t Train Loss: 0.1672513633966446 \t Train Acc: 0.9412500262260437\n",
      "Epoch: 3 \t Batch Num: 100 \t Train Loss: 0.16663670539855957 \t Train Acc: 0.9403906464576721\n",
      "Epoch: 3 \t Batch Num: 150 \t Train Loss: 0.20397654175758362 \t Train Acc: 0.9418749809265137\n",
      "Epoch: 3 \t Batch Num: 200 \t Train Loss: 0.20343494415283203 \t Train Acc: 0.9406640529632568\n",
      "Epoch: 3 \t Batch Num: 250 \t Train Loss: 0.20650742948055267 \t Train Acc: 0.9408749938011169\n",
      "Epoch: 3 \t Batch Num: 300 \t Train Loss: 0.1904240995645523 \t Train Acc: 0.9403125047683716\n",
      "Epoch: 3 \t Batch Num: 350 \t Train Loss: 0.26503413915634155 \t Train Acc: 0.9400669932365417\n",
      "Epoch: 3 \t Batch Num: 400 \t Train Loss: 0.22566844522953033 \t Train Acc: 0.9395703077316284\n",
      "Epoch: 3 \t Batch Num: 450 \t Train Loss: 0.14423516392707825 \t Train Acc: 0.9398437738418579\n",
      "Epoch: 3 \t Batch Num: 500 \t Train Loss: 0.19416926801204681 \t Train Acc: 0.939578115940094\n",
      "Epoch: 3 \t Batch Num: 550 \t Train Loss: 0.24397994577884674 \t Train Acc: 0.9394744038581848\n",
      "Epoch: 3 \t Batch Num: 600 \t Train Loss: 0.12072513997554779 \t Train Acc: 0.9391145706176758\n",
      "Epoch: 3 \t Batch Num: 650 \t Train Loss: 0.23009784519672394 \t Train Acc: 0.938978374004364\n",
      "Epoch: 3 \t Batch Num: 700 \t Train Loss: 0.21504338085651398 \t Train Acc: 0.938861608505249\n",
      "Epoch: 3 \t Batch Num: 750 \t Train Loss: 0.23894965648651123 \t Train Acc: 0.9388750195503235\n",
      "Epoch: 3 \t Batch Num: 800 \t Train Loss: 0.19214019179344177 \t Train Acc: 0.9387402534484863\n",
      "Epoch: 3 \t Batch Num: 850 \t Train Loss: 0.1791248619556427 \t Train Acc: 0.938584566116333\n",
      "Epoch: 3 \t Batch Num: 900 \t Train Loss: 0.10216398537158966 \t Train Acc: 0.9383506774902344\n",
      "Epoch: 4 \t Batch Num: 50 \t Train Loss: 0.1730041354894638 \t Train Acc: 0.9540625214576721\n",
      "Epoch: 4 \t Batch Num: 100 \t Train Loss: 0.14691953361034393 \t Train Acc: 0.9542187452316284\n",
      "Epoch: 4 \t Batch Num: 150 \t Train Loss: 0.23670008778572083 \t Train Acc: 0.9534896016120911\n",
      "Epoch: 4 \t Batch Num: 200 \t Train Loss: 0.12595753371715546 \t Train Acc: 0.9522656202316284\n",
      "Epoch: 4 \t Batch Num: 250 \t Train Loss: 0.1051606610417366 \t Train Acc: 0.9517187476158142\n",
      "Epoch: 4 \t Batch Num: 300 \t Train Loss: 0.11259341984987259 \t Train Acc: 0.9514583349227905\n",
      "Epoch: 4 \t Batch Num: 350 \t Train Loss: 0.3850933909416199 \t Train Acc: 0.9507589340209961\n",
      "Epoch: 4 \t Batch Num: 400 \t Train Loss: 0.08322017639875412 \t Train Acc: 0.9507421851158142\n",
      "Epoch: 4 \t Batch Num: 450 \t Train Loss: 0.09126123040914536 \t Train Acc: 0.9504687786102295\n",
      "Epoch: 4 \t Batch Num: 500 \t Train Loss: 0.13178640604019165 \t Train Acc: 0.9507656097412109\n",
      "Epoch: 4 \t Batch Num: 550 \t Train Loss: 0.18044012784957886 \t Train Acc: 0.9505965709686279\n",
      "Epoch: 4 \t Batch Num: 600 \t Train Loss: 0.14702416956424713 \t Train Acc: 0.9504817724227905\n",
      "Epoch: 4 \t Batch Num: 650 \t Train Loss: 0.05696629732847214 \t Train Acc: 0.9507572054862976\n",
      "Epoch: 4 \t Batch Num: 700 \t Train Loss: 0.18111546337604523 \t Train Acc: 0.9506919384002686\n",
      "Epoch: 4 \t Batch Num: 750 \t Train Loss: 0.08720364421606064 \t Train Acc: 0.9507604241371155\n",
      "Epoch: 4 \t Batch Num: 800 \t Train Loss: 0.15509378910064697 \t Train Acc: 0.9506054520606995\n",
      "Epoch: 4 \t Batch Num: 850 \t Train Loss: 0.22317427396774292 \t Train Acc: 0.9507996439933777\n",
      "Epoch: 4 \t Batch Num: 900 \t Train Loss: 0.16024751961231232 \t Train Acc: 0.9506423473358154\n"
     ]
    }
   ],
   "source": [
    " ### YOUR CODE HERE ###\n",
    "\n",
    "for epoch in range(NUM_EPOCHS):\n",
    "    correct = 0\n",
    "    num_examples = 0\n",
    "    mini_batch_num = 0\n",
    "    for x, labels in train_loader:\n",
    "        mini_batch_num += 1\n",
    "        # Reset grads\n",
    "        optimizer.zero_grad()\n",
    "        # Forward pass\n",
    "        y = model_lstm(x)\n",
    "        # Calc the loss\n",
    "        loss = loss_fn(y, labels)\n",
    "        # Backward pass\n",
    "        loss.backward()\n",
    "        # Update the parameters\n",
    "        optimizer.step()\n",
    "\n",
    "        predictions = torch.argmax(y, dim=1)\n",
    "        correct += torch.sum((predictions == labels).float())\n",
    "        num_examples += x.shape[1]\n",
    "\n",
    "        if mini_batch_num % 50 == 0:\n",
    "            acc = correct/num_examples\n",
    "            print(f\"Epoch: {epoch} \\t Batch Num: {mini_batch_num} \\t Train Loss: {loss} \\t Train Acc: {acc}\")"
   ]
  },
  {
   "cell_type": "code",
   "execution_count": 21,
   "metadata": {},
   "outputs": [
    {
     "name": "stdout",
     "output_type": "stream",
     "text": [
      "Test accuracy: 0.9073684215545654\n"
     ]
    }
   ],
   "source": [
    "## Testing\n",
    "correct = 0\n",
    "num_test = 0\n",
    "\n",
    "with torch.no_grad():\n",
    "    # Iterate through test set minibatchs \n",
    "    for x, labels in test_loader:\n",
    "        # Forward pass\n",
    "        y = model_lstm(x)\n",
    "        predictions = torch.argmax(y, dim=1)\n",
    "        correct += torch.sum((predictions == labels).float())\n",
    "        num_test += x.shape[1]        \n",
    "    \n",
    "print('Test accuracy: {}'.format(correct/num_test))\n"
   ]
  },
  {
   "cell_type": "markdown",
   "metadata": {},
   "source": [
    "### GRU"
   ]
  },
  {
   "cell_type": "code",
   "execution_count": 33,
   "metadata": {},
   "outputs": [],
   "source": [
    "### YOUR CODE HERE ###\n",
    "import torch.nn as nn\n",
    "import torch.nn.functional as F\n",
    "\n",
    "class SGRU(nn.Module):\n",
    "    def __init__(self, vocab_size, embedding_size, hidden_dim, rnn_layers, num_outputs):\n",
    "        super().__init__()\n",
    "        self.hidden_dim = hidden_dim\n",
    "        self.embedding = nn.Embedding(vocab_size, embedding_size)\n",
    "        self.gru = nn.GRU(embedding_size, hidden_dim, num_layers=rnn_layers)\n",
    "        self.fc1 = nn.Linear(hidden_dim, num_outputs)\n",
    "\n",
    "    def forward(self, x):\n",
    "        embed = self.embedding(x)\n",
    "        out, h = self.gru(embed)\n",
    "        embed_mean = torch.mean(out, dim=0)\n",
    "        pred = self.fc1(embed_mean) \n",
    "        return pred\n",
    "   "
   ]
  },
  {
   "cell_type": "code",
   "execution_count": 34,
   "metadata": {},
   "outputs": [],
   "source": [
    "### YOUR CODE HERE ###\n",
    "RNN_LAYERS = 2\n",
    "# Initialize the model\n",
    "model_gru = SGRU(VOCAB_SIZE, EMBED_DIM, HIDDEN_DIM, RNN_LAYERS, NUM_OUTPUTS)\n"
   ]
  },
  {
   "cell_type": "code",
   "execution_count": 35,
   "metadata": {},
   "outputs": [
    {
     "name": "stdout",
     "output_type": "stream",
     "text": [
      "[torch.Size([102179, 100]), torch.Size([192, 100]), torch.Size([192, 64]), torch.Size([192]), torch.Size([192]), torch.Size([192, 64]), torch.Size([192, 64]), torch.Size([192]), torch.Size([192]), torch.Size([4, 64]), torch.Size([4])]\n"
     ]
    }
   ],
   "source": [
    "### YOUR CODE HERE ###\n",
    "\n",
    "# Create loss function and optimizer\n",
    "loss_fn = nn.CrossEntropyLoss()\n",
    "optimizer = torch.optim.Adam(model_gru.parameters(), lr=0.001)\n",
    "\n",
    "print([p.shape for p in model_gru.parameters()])\n"
   ]
  },
  {
   "cell_type": "code",
   "execution_count": 36,
   "metadata": {},
   "outputs": [
    {
     "name": "stdout",
     "output_type": "stream",
     "text": [
      "Epoch: 0 \t Batch Num: 50 \t Train Loss: 1.3227726221084595 \t Train Acc: 0.3070312440395355\n",
      "Epoch: 0 \t Batch Num: 100 \t Train Loss: 0.760535478591919 \t Train Acc: 0.4214843809604645\n",
      "Epoch: 0 \t Batch Num: 150 \t Train Loss: 0.6351439356803894 \t Train Acc: 0.5140104293823242\n",
      "Epoch: 0 \t Batch Num: 200 \t Train Loss: 0.5299344062805176 \t Train Acc: 0.5737890601158142\n",
      "Epoch: 0 \t Batch Num: 250 \t Train Loss: 0.4983929395675659 \t Train Acc: 0.6192812323570251\n",
      "Epoch: 0 \t Batch Num: 300 \t Train Loss: 0.5482546091079712 \t Train Acc: 0.6515104174613953\n",
      "Epoch: 0 \t Batch Num: 350 \t Train Loss: 0.5962448716163635 \t Train Acc: 0.6758928298950195\n",
      "Epoch: 0 \t Batch Num: 400 \t Train Loss: 0.3886748254299164 \t Train Acc: 0.6963866949081421\n",
      "Epoch: 0 \t Batch Num: 450 \t Train Loss: 0.3570895791053772 \t Train Acc: 0.7138194441795349\n",
      "Epoch: 0 \t Batch Num: 500 \t Train Loss: 0.4605090022087097 \t Train Acc: 0.7280937433242798\n",
      "Epoch: 0 \t Batch Num: 550 \t Train Loss: 0.39979660511016846 \t Train Acc: 0.7403267025947571\n",
      "Epoch: 0 \t Batch Num: 600 \t Train Loss: 0.2568376958370209 \t Train Acc: 0.7505598664283752\n",
      "Epoch: 0 \t Batch Num: 650 \t Train Loss: 0.3375236988067627 \t Train Acc: 0.7601202130317688\n",
      "Epoch: 0 \t Batch Num: 700 \t Train Loss: 0.3727647364139557 \t Train Acc: 0.768180787563324\n",
      "Epoch: 0 \t Batch Num: 750 \t Train Loss: 0.36792275309562683 \t Train Acc: 0.7750833630561829\n",
      "Epoch: 0 \t Batch Num: 800 \t Train Loss: 0.42367151379585266 \t Train Acc: 0.7816992402076721\n",
      "Epoch: 0 \t Batch Num: 850 \t Train Loss: 0.5162760019302368 \t Train Acc: 0.7874816060066223\n",
      "Epoch: 0 \t Batch Num: 900 \t Train Loss: 0.30100110173225403 \t Train Acc: 0.7927170395851135\n",
      "Epoch: 1 \t Batch Num: 50 \t Train Loss: 0.3603595197200775 \t Train Acc: 0.9073437452316284\n",
      "Epoch: 1 \t Batch Num: 100 \t Train Loss: 0.38955312967300415 \t Train Acc: 0.9042187333106995\n",
      "Epoch: 1 \t Batch Num: 150 \t Train Loss: 0.19331781566143036 \t Train Acc: 0.9058853983879089\n",
      "Epoch: 1 \t Batch Num: 200 \t Train Loss: 0.2904728949069977 \t Train Acc: 0.9062109589576721\n",
      "Epoch: 1 \t Batch Num: 250 \t Train Loss: 0.2958585023880005 \t Train Acc: 0.9064062237739563\n",
      "Epoch: 1 \t Batch Num: 300 \t Train Loss: 0.339474618434906 \t Train Acc: 0.906822919845581\n",
      "Epoch: 1 \t Batch Num: 350 \t Train Loss: 0.3634727895259857 \t Train Acc: 0.9070758819580078\n",
      "Epoch: 1 \t Batch Num: 400 \t Train Loss: 0.26203128695487976 \t Train Acc: 0.9071289300918579\n",
      "Epoch: 1 \t Batch Num: 450 \t Train Loss: 0.17358171939849854 \t Train Acc: 0.9078472256660461\n",
      "Epoch: 1 \t Batch Num: 500 \t Train Loss: 0.1662037968635559 \t Train Acc: 0.9079375267028809\n",
      "Epoch: 1 \t Batch Num: 550 \t Train Loss: 0.26054006814956665 \t Train Acc: 0.9078550934791565\n",
      "Epoch: 1 \t Batch Num: 600 \t Train Loss: 0.1923602670431137 \t Train Acc: 0.9082291722297668\n",
      "Epoch: 1 \t Batch Num: 650 \t Train Loss: 0.40151411294937134 \t Train Acc: 0.9081490635871887\n",
      "Epoch: 1 \t Batch Num: 700 \t Train Loss: 0.2143671214580536 \t Train Acc: 0.9084821343421936\n",
      "Epoch: 1 \t Batch Num: 750 \t Train Loss: 0.2399316132068634 \t Train Acc: 0.9086666703224182\n",
      "Epoch: 1 \t Batch Num: 800 \t Train Loss: 0.23266470432281494 \t Train Acc: 0.9090917706489563\n",
      "Epoch: 1 \t Batch Num: 850 \t Train Loss: 0.21682727336883545 \t Train Acc: 0.9095220565795898\n",
      "Epoch: 1 \t Batch Num: 900 \t Train Loss: 0.21847182512283325 \t Train Acc: 0.9097222089767456\n",
      "Epoch: 2 \t Batch Num: 50 \t Train Loss: 0.2419055849313736 \t Train Acc: 0.9378125071525574\n",
      "Epoch: 2 \t Batch Num: 100 \t Train Loss: 0.22523657977581024 \t Train Acc: 0.9338281154632568\n",
      "Epoch: 2 \t Batch Num: 150 \t Train Loss: 0.21991696953773499 \t Train Acc: 0.9348958134651184\n",
      "Epoch: 2 \t Batch Num: 200 \t Train Loss: 0.17692239582538605 \t Train Acc: 0.9355859160423279\n",
      "Epoch: 2 \t Batch Num: 250 \t Train Loss: 0.2525891065597534 \t Train Acc: 0.9348437786102295\n",
      "Epoch: 2 \t Batch Num: 300 \t Train Loss: 0.13332916796207428 \t Train Acc: 0.9347395896911621\n",
      "Epoch: 2 \t Batch Num: 350 \t Train Loss: 0.19952084124088287 \t Train Acc: 0.9345759153366089\n",
      "Epoch: 2 \t Batch Num: 400 \t Train Loss: 0.21846918761730194 \t Train Acc: 0.9347070455551147\n",
      "Epoch: 2 \t Batch Num: 450 \t Train Loss: 0.09115350246429443 \t Train Acc: 0.9347569346427917\n",
      "Epoch: 2 \t Batch Num: 500 \t Train Loss: 0.160907581448555 \t Train Acc: 0.934249997138977\n",
      "Epoch: 2 \t Batch Num: 550 \t Train Loss: 0.16604815423488617 \t Train Acc: 0.9343323707580566\n",
      "Epoch: 2 \t Batch Num: 600 \t Train Loss: 0.2361018806695938 \t Train Acc: 0.9342057108879089\n",
      "Epoch: 2 \t Batch Num: 650 \t Train Loss: 0.17918989062309265 \t Train Acc: 0.9339542984962463\n",
      "Epoch: 2 \t Batch Num: 700 \t Train Loss: 0.17516379058361053 \t Train Acc: 0.9339731931686401\n",
      "Epoch: 2 \t Batch Num: 750 \t Train Loss: 0.23800459504127502 \t Train Acc: 0.9338229298591614\n",
      "Epoch: 2 \t Batch Num: 800 \t Train Loss: 0.2651148736476898 \t Train Acc: 0.933789074420929\n",
      "Epoch: 2 \t Batch Num: 850 \t Train Loss: 0.17879053950309753 \t Train Acc: 0.9339430332183838\n",
      "Epoch: 2 \t Batch Num: 900 \t Train Loss: 0.20568276941776276 \t Train Acc: 0.9341493248939514\n"
     ]
    }
   ],
   "source": [
    " ### YOUR CODE HERE ###\n",
    "\n",
    "for epoch in range(NUM_EPOCHS):\n",
    "    correct = 0\n",
    "    num_examples = 0\n",
    "    mini_batch_num = 0\n",
    "    for x, labels in train_loader:\n",
    "        mini_batch_num += 1\n",
    "        # Reset grads\n",
    "        optimizer.zero_grad()\n",
    "        # Forward pass\n",
    "        y = model_gru(x)\n",
    "        # Calc the loss\n",
    "        loss = loss_fn(y, labels)\n",
    "        # Backward pass\n",
    "        loss.backward()\n",
    "        # Update the parameters\n",
    "        optimizer.step()\n",
    "\n",
    "        predictions = torch.argmax(y, dim=1)\n",
    "        correct += torch.sum((predictions == labels).float())\n",
    "        num_examples += x.shape[1]\n",
    "\n",
    "        if mini_batch_num % 50 == 0:\n",
    "            acc = correct/num_examples\n",
    "            print(f\"Epoch: {epoch} \\t Batch Num: {mini_batch_num} \\t Train Loss: {loss} \\t Train Acc: {acc}\")"
   ]
  },
  {
   "cell_type": "code",
   "execution_count": 37,
   "metadata": {},
   "outputs": [
    {
     "name": "stdout",
     "output_type": "stream",
     "text": [
      "Test accuracy: 0.9027631282806396\n"
     ]
    }
   ],
   "source": [
    "## Testing\n",
    "correct = 0\n",
    "num_test = 0\n",
    "\n",
    "with torch.no_grad():\n",
    "    # Iterate through test set minibatchs \n",
    "    for x, labels in test_loader:\n",
    "        # Forward pass\n",
    "        y = model_gru(x)\n",
    "        predictions = torch.argmax(y, dim=1)\n",
    "        correct += torch.sum((predictions == labels).float())\n",
    "        num_test += x.shape[1]        \n",
    "    \n",
    "print('Test accuracy: {}'.format(correct/num_test))\n"
   ]
  },
  {
   "cell_type": "markdown",
   "metadata": {},
   "source": [
    "### Short Answer:\n",
    "\n",
    "1\\. How do the RNN, GRU, and LSTM compare to SWEM for AG News topic classification?\n",
    "Are you surprised?}\n",
    "What about classification might make SWEM so effective for topic classification?"
   ]
  },
  {
   "cell_type": "markdown",
   "metadata": {},
   "source": [
    "The accuracy of the test set is almost the same. The classification bases its decisions mostly on the specific words on a subject and not on the word order."
   ]
  },
  {
   "cell_type": "markdown",
   "metadata": {},
   "source": [
    "2\\. How many learnable parameters do each of the models you've trained have?"
   ]
  },
  {
   "cell_type": "markdown",
   "metadata": {},
   "source": [
    "SWEM\n",
    "[torch.Size([102179, 100]), torch.Size([192, 100]), torch.Size([192, 64]), torch.Size([192]), torch.Size([192]), torch.Size([192, 64]), torch.Size([192, 64]), torch.Size([192]), torch.Size([192]), torch.Size([4, 64]), torch.Size([4])]\n",
    "\"10217900+19200+12288+192+192+12288+12288+192+192+256+4=10274992\"\n",
    "\n",
    "RNN\n",
    "[torch.Size([102179, 100]), torch.Size([64, 100]), torch.Size([64, 64]), torch.Size([64]), torch.Size([64]), torch.Size([64, 64]), torch.Size([64, 64]), torch.Size([64]), torch.Size([64]), torch.Size([4, 64]), torch.Size([4])]\n",
    "\"10217900+6400+4096+64+64+4096+4096+64+64+256+4=10237104\"\n",
    "\n",
    "LSTM\n",
    "[torch.Size([102179, 100]), torch.Size([256, 100]), torch.Size([256, 64]), torch.Size([256]), torch.Size([256]), torch.Size([256, 64]), torch.Size([256, 64]), torch.Size([256]), torch.Size([256]), torch.Size([4, 64]), torch.Size([4])]\n",
    "10217900\n",
    "\"10217900+25600+16384+256+256+16384+16384+256+256+256+4=10293936\"\n",
    "\n",
    "GRU\n",
    "[torch.Size([102179, 100]), torch.Size([192, 100]), torch.Size([192, 64]), torch.Size([192]), torch.Size([192]), torch.Size([192, 64]), torch.Size([192, 64]), torch.Size([192]), torch.Size([192]), torch.Size([4, 64]), torch.Size([4])]\n",
    "\"10217900+19200+12288+192+192+12288+12288+192+192+256+4=10274992\"\n",
    "\n"
   ]
  },
  {
   "cell_type": "code",
   "execution_count": null,
   "metadata": {},
   "outputs": [],
   "source": []
  }
 ],
 "metadata": {
  "kernelspec": {
   "display_name": "Python 3",
   "language": "python",
   "name": "python3"
  },
  "language_info": {
   "codemirror_mode": {
    "name": "ipython",
    "version": 3
   },
   "file_extension": ".py",
   "mimetype": "text/x-python",
   "name": "python",
   "nbconvert_exporter": "python",
   "pygments_lexer": "ipython3",
   "version": "3.8.5"
  }
 },
 "nbformat": 4,
 "nbformat_minor": 4
}

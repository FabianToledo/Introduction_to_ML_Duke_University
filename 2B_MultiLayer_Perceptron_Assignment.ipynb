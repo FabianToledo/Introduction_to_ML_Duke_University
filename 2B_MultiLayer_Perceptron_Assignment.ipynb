{
 "cells": [
  {
   "cell_type": "markdown",
   "metadata": {},
   "source": [
    "# PyTorch Assignment: Multi-Layer Perceptron (MLP)"
   ]
  },
  {
   "cell_type": "markdown",
   "metadata": {},
   "source": [
    "**[Duke Community Standard](http://integrity.duke.edu/standard.html): By typing your name below, you are certifying that you have adhered to the Duke Community Standard in completing this assignment.**\n",
    "\n",
    "Name: Fabian Alejandro Toledo"
   ]
  },
  {
   "cell_type": "markdown",
   "metadata": {},
   "source": [
    "### Multi-Layer Perceptrons\n",
    "\n",
    "The simple logistic regression example we went over in the previous notebook is essentially a one-layer neural network, projecting straight from the input to the output predictions.\n",
    "While this can be effective for linearly separable data, occasionally a little more complexity is necessary.\n",
    "Neural networks with additional layers are typically able to learn more complex functions, leading to better performance.\n",
    "These additional layers (called \"hidden\" layers) transform the input into one or more intermediate representations before making a final prediction.\n",
    "\n",
    "In the logistic regression example, the way we performed the transformation was with a fully-connected layer, which consisted of a linear transform (matrix multiply plus a bias).\n",
    "A neural network consisting of multiple successive fully-connected layers is commonly called a Multi-Layer Perceptron (MLP). \n",
    "In the simple MLP below, a 4-d input is projected to a 5-d hidden representation, which is then projected to a single output that is used to make the final prediction.\n",
    "\n",
    "<img src=\"Figures/MLP.png\" width=\"300\"/>\n",
    "\n",
    "For the assignment, you will be building a MLP for MNIST.\n",
    "Mechanically, this is done very similary to our logistic regression example, but instead of going straight to a 10-d vector representing our output predictions, we might first transform to a 500-d vector with a \"hidden\" layer, then to the output of dimension 10.\n",
    "Before you do so, however, there's one more important thing to consider.\n",
    "\n",
    "### Nonlinearities\n",
    "\n",
    "We typically include nonlinearities between layers of a neural network.\n",
    "There's a number of reasons to do so.\n",
    "For one, without anything nonlinear between them, successive linear transforms (fully connected layers) collapse into a single linear transform, which means the model isn't any more expressive than a single layer.\n",
    "On the other hand, intermediate nonlinearities prevent this collapse, allowing neural networks to approximate more complex functions.\n",
    "\n",
    "There are a number of nonlinearities commonly used in neural networks, but one of the most popular is the [rectified linear unit (ReLU)](https://en.wikipedia.org/wiki/Rectifier_(neural_networks)):\n",
    "\n",
    "\\begin{align}\n",
    "x = \\max(0,x)\n",
    "\\end{align}\n",
    "\n",
    "There are a number of ways to implement this in PyTorch.\n",
    "We could do it with elementary PyTorch operations:"
   ]
  },
  {
   "cell_type": "code",
   "execution_count": 2,
   "metadata": {
    "scrolled": true
   },
   "outputs": [
    {
     "name": "stdout",
     "output_type": "stream",
     "text": [
      "x: tensor([[-0.4076, -0.8381,  0.2624],\n",
      "        [ 0.7317,  0.2092, -0.1997],\n",
      "        [-0.5442,  0.0899, -0.1632],\n",
      "        [-0.6761, -0.1761,  0.7226],\n",
      "        [ 0.7605,  0.0294, -0.6671]])\n",
      "x after ReLU with max: tensor([[0.0000, 0.0000, 0.2624],\n",
      "        [0.7317, 0.2092, 0.0000],\n",
      "        [0.0000, 0.0899, 0.0000],\n",
      "        [0.0000, 0.0000, 0.7226],\n",
      "        [0.7605, 0.0294, 0.0000]])\n"
     ]
    }
   ],
   "source": [
    "import torch\n",
    "\n",
    "x = torch.rand(5, 3)*2 - 1\n",
    "x_relu_max = torch.max(torch.zeros_like(x),x)\n",
    "\n",
    "print(\"x: {}\".format(x))\n",
    "print(\"x after ReLU with max: {}\".format(x_relu_max))"
   ]
  },
  {
   "cell_type": "markdown",
   "metadata": {},
   "source": [
    "Of course, PyTorch also has the ReLU implemented, for example in `torch.nn.functional`:"
   ]
  },
  {
   "cell_type": "code",
   "execution_count": 3,
   "metadata": {},
   "outputs": [
    {
     "name": "stdout",
     "output_type": "stream",
     "text": [
      "x after ReLU with nn.functional: tensor([[0.0000, 0.0000, 0.2624],\n",
      "        [0.7317, 0.2092, 0.0000],\n",
      "        [0.0000, 0.0899, 0.0000],\n",
      "        [0.0000, 0.0000, 0.7226],\n",
      "        [0.7605, 0.0294, 0.0000]])\n"
     ]
    }
   ],
   "source": [
    "import torch.nn.functional as F\n",
    "\n",
    "x_relu_F = F.relu(x)\n",
    "\n",
    "print(\"x after ReLU with nn.functional: {}\".format(x_relu_F))"
   ]
  },
  {
   "cell_type": "markdown",
   "metadata": {},
   "source": [
    "Same result."
   ]
  },
  {
   "cell_type": "markdown",
   "metadata": {},
   "source": [
    "### Assignment\n",
    "\n",
    "Build a 2-layer MLP for MNIST digit classfication. Feel free to play around with the model architecture and see how the training time/performance changes, but to begin, try the following:\n",
    "\n",
    "Image (784 dimensions) ->  \n",
    "fully connected layer (500 hidden units) -> nonlinearity (ReLU) ->  \n",
    "fully connected (10 hidden units) -> softmax\n",
    "\n",
    "Try building the model both with basic PyTorch operations, and then again with more object-oriented higher-level APIs. \n",
    "You should get similar results!\n",
    "\n",
    "\n",
    "*Some hints*:\n",
    "- Even as we add additional layers, we still only require a single optimizer to learn the parameters.\n",
    "Just make sure to pass all parameters to it!\n",
    "- As you'll calculate in the Short Answer, this MLP model has many more parameters than the logisitic regression example, which makes it more challenging to learn.\n",
    "To get the best performance, you may want to play with the learning rate and increase the number of training epochs.\n",
    "- Be careful using `torch.nn.CrossEntropyLoss()`. \n",
    "If you look at the [PyTorch documentation](https://pytorch.org/docs/stable/nn.html#crossentropyloss): you'll see that `torch.nn.CrossEntropyLoss()` combines the softmax operation with the cross-entropy.\n",
    "This means you need to pass in the logits (predictions pre-softmax) to this loss.\n",
    "Computing the softmax separately and feeding the result into `torch.nn.CrossEntropyLoss()` will significantly degrade your model's performance!"
   ]
  },
  {
   "cell_type": "code",
   "execution_count": 4,
   "metadata": {
    "scrolled": true
   },
   "outputs": [
    {
     "data": {
      "application/vnd.jupyter.widget-view+json": {
       "model_id": "22fe7f31e354488ba7b2fb14292585de",
       "version_major": 2,
       "version_minor": 0
      },
      "text/plain": [
       "  0%|          | 0/600 [00:00<?, ?it/s]"
      ]
     },
     "metadata": {},
     "output_type": "display_data"
    },
    {
     "data": {
      "application/vnd.jupyter.widget-view+json": {
       "model_id": "9b3f6e11fa0c479d822e71295fb4703b",
       "version_major": 2,
       "version_minor": 0
      },
      "text/plain": [
       "  0%|          | 0/100 [00:00<?, ?it/s]"
      ]
     },
     "metadata": {},
     "output_type": "display_data"
    },
    {
     "name": "stdout",
     "output_type": "stream",
     "text": [
      "Test accuracy: 0.9259999990463257\n"
     ]
    }
   ],
   "source": [
    "### YOUR CODE HERE\n",
    "import numpy as np\n",
    "import torch\n",
    "import torch.nn.functional as F\n",
    "from torchvision import datasets, transforms\n",
    "from tqdm.notebook import tqdm\n",
    "\n",
    "mnist_train = datasets.MNIST(root=\"./datasets\", train=True, transform=transforms.ToTensor(), download=True)\n",
    "mnist_test = datasets.MNIST(root=\"./datasets\", train=False, transform=transforms.ToTensor(), download=True)\n",
    "train_loader = torch.utils.data.DataLoader(mnist_train, batch_size=100, shuffle=True)\n",
    "test_loader = torch.utils.data.DataLoader(mnist_test, batch_size=100, shuffle=False)\n",
    "\n",
    "# Dimensions\n",
    "input_dim = mnist_train.train_data.shape[1] * mnist_train.train_data.shape[2] #input dimensions\n",
    "L1_o_dim = 500\n",
    "L2_o_dim = 10\n",
    "# Initialize parameters\n",
    "# Layer 1\n",
    "W1 = torch.randn(input_dim, L1_o_dim)/np.sqrt(input_dim)\n",
    "W1.requires_grad_()\n",
    "b1 = torch.zeros(L1_o_dim, requires_grad=True)\n",
    "# Layer 2\n",
    "W2 = torch.randn(L1_o_dim, L2_o_dim)/np.sqrt(L1_o_dim)\n",
    "W2.requires_grad_()\n",
    "b2 = torch.zeros(L2_o_dim, requires_grad=True)\n",
    "\n",
    "# Optimizer\n",
    "optimizer = torch.optim.SGD([W1,b1,W2,b2], lr=0.1)\n",
    "\n",
    "# Training\n",
    "for images, labels in tqdm(train_loader):\n",
    "    # Reset the gradients\n",
    "    optimizer.zero_grad()\n",
    "    # Forward\n",
    "    # Input\n",
    "    X = images.view(-1, input_dim)\n",
    "    # Layer 1\n",
    "    Z1 = X @ W1 + b1\n",
    "    A1 = F.relu(Z1)\n",
    "    # Layer 2\n",
    "    Z2 = A1 @ W2 + b2\n",
    "    # Loss: Softmax with cross_entropy\n",
    "    loss = F.cross_entropy(Z2, labels)\n",
    "    \n",
    "    # Backward\n",
    "    loss.backward()\n",
    "    optimizer.step()\n",
    "\n",
    "# Test validation set\n",
    "correct = 0\n",
    "total = len(mnist_test)\n",
    "with torch.no_grad():\n",
    "    for images, labels in tqdm(test_loader):\n",
    "        # Forward\n",
    "        # Input\n",
    "        X = images.view(-1, input_dim)\n",
    "        # Layer 1\n",
    "        Z1 = X @ W1 + b1\n",
    "        A1 = F.relu(Z1)\n",
    "        # Layer 2\n",
    "        Z2 = A1 @ W2 + b2\n",
    "        \n",
    "        predictions = torch.argmax(Z2, dim=1)\n",
    "        correct += torch.sum((predictions == labels).float())\n",
    "\n",
    "print(f'Test accuracy: {correct/total}')\n",
    "# Make sure to print out your accuracy on the test set at the end."
   ]
  },
  {
   "cell_type": "code",
   "execution_count": 5,
   "metadata": {},
   "outputs": [
    {
     "data": {
      "application/vnd.jupyter.widget-view+json": {
       "model_id": "8f37347b64864a9f8bc8c94578ea4513",
       "version_major": 2,
       "version_minor": 0
      },
      "text/plain": [
       "  0%|          | 0/600 [00:00<?, ?it/s]"
      ]
     },
     "metadata": {},
     "output_type": "display_data"
    },
    {
     "data": {
      "application/vnd.jupyter.widget-view+json": {
       "model_id": "64d516841e8c4e9e9d16667b7c104fbb",
       "version_major": 2,
       "version_minor": 0
      },
      "text/plain": [
       "  0%|          | 0/100 [00:00<?, ?it/s]"
      ]
     },
     "metadata": {},
     "output_type": "display_data"
    },
    {
     "name": "stdout",
     "output_type": "stream",
     "text": [
      "Test accuracy: 0.9189000129699707\n"
     ]
    }
   ],
   "source": [
    "### YOUR CODE HERE\n",
    "import numpy as np\n",
    "import torch\n",
    "import torch.nn as nn\n",
    "import torch.nn.functional as F\n",
    "from torchvision import datasets, transforms\n",
    "from tqdm.notebook import tqdm\n",
    "\n",
    "mnist_train = datasets.MNIST(root=\"./datasets\", train=True, transform=transforms.ToTensor(), download=True)\n",
    "mnist_test = datasets.MNIST(root=\"./datasets\", train=False, transform=transforms.ToTensor(), download=True)\n",
    "train_loader = torch.utils.data.DataLoader(mnist_train, batch_size=100, shuffle=True)\n",
    "test_loader = torch.utils.data.DataLoader(mnist_test, batch_size=100, shuffle=False)\n",
    "\n",
    "class MLP(nn.Module):\n",
    "    # Dimensions\n",
    "    L1_o_dim = 500\n",
    "    L2_o_dim = 10\n",
    "\n",
    "    def __init__(self, input_dim):\n",
    "        super().__init__()\n",
    "        self.L1 = nn.Linear(input_dim, self.L1_o_dim)\n",
    "        self.A1 = nn.ReLU()\n",
    "        self.L2 = nn.Linear(self.L1_o_dim, self.L2_o_dim)\n",
    "\n",
    "    def forward(self, x):\n",
    "        Z1 = self.L1(x)\n",
    "        A1 = self.A1(Z1)\n",
    "        return self.L2(A1)\n",
    "\n",
    "\n",
    "# Dimensions\n",
    "input_dim = mnist_train.train_data.shape[1] * mnist_train.train_data.shape[2] #input dimensions\n",
    "\n",
    "# Initialize parameters\n",
    "model = MLP(input_dim)\n",
    "\n",
    "# Optimizer\n",
    "criterion = nn.CrossEntropyLoss()\n",
    "optimizer = torch.optim.SGD(model.parameters(), lr=0.1)\n",
    "\n",
    "# Training\n",
    "for images, labels in tqdm(train_loader):\n",
    "    # Reset the gradients\n",
    "    optimizer.zero_grad()\n",
    "    # Forward\n",
    "    # Input\n",
    "    X = images.view(-1, input_dim)\n",
    "    Z2 = model(X) \n",
    "    # Loss: Softmax with cross_entropy\n",
    "    loss = criterion(Z2, labels)\n",
    "    \n",
    "    # Backward\n",
    "    loss.backward()\n",
    "    optimizer.step()\n",
    "\n",
    "# Test validation set\n",
    "correct = 0\n",
    "total = len(mnist_test)\n",
    "with torch.no_grad():\n",
    "    for images, labels in tqdm(test_loader):\n",
    "        # Forward\n",
    "        # Input\n",
    "        X = images.view(-1, input_dim)\n",
    "        Z2 = model(X)\n",
    "        \n",
    "        predictions = torch.argmax(Z2, dim=1)\n",
    "        correct += torch.sum((predictions == labels).float())\n",
    "\n",
    "print(f'Test accuracy: {correct/total}')\n",
    "# Make sure to print out your accuracy on the test set at the end."
   ]
  },
  {
   "cell_type": "markdown",
   "metadata": {},
   "source": [
    "### Short answer\n",
    "How many trainable parameters does your model have? \n",
    "How does this compare to the logisitic regression example?"
   ]
  },
  {
   "cell_type": "markdown",
   "metadata": {},
   "source": [
    "The 2-layer model has: \n",
    "Layer 1: (784 * 500) + 500 = 392500\n",
    "Layer 2: (500 * 10) + 10 = 5010\n",
    "Total of: <b>397510 parameters</b>\n",
    "\n",
    "The logistic regression example has 784 * 10 + 10 = 7850 parameters\n",
    "\n",
    "The 2-layer model has <b>389660 more parameters</b> than the logistic regression"
   ]
  }
 ],
 "metadata": {
  "kernelspec": {
   "display_name": "Python 3",
   "language": "python",
   "name": "python3"
  },
  "language_info": {
   "codemirror_mode": {
    "name": "ipython",
    "version": 3
   },
   "file_extension": ".py",
   "mimetype": "text/x-python",
   "name": "python",
   "nbconvert_exporter": "python",
   "pygments_lexer": "ipython3",
   "version": "3.8.5"
  }
 },
 "nbformat": 4,
 "nbformat_minor": 4
}
